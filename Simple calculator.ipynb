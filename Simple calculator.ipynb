{
 "cells": [
  {
   "cell_type": "markdown",
   "metadata": {},
   "source": [
    "# Simple Calculator"
   ]
  },
  {
   "cell_type": "code",
   "execution_count": 105,
   "metadata": {},
   "outputs": [],
   "source": [
    "\n",
    "def calculator(sign,num1,num2):\n",
    "    if sign == '+' :\n",
    "        ans = num1 + num2\n",
    "        print(\"\\n\",num1, '+' ,num2,'=',ans)\n",
    "    elif sign == '-':\n",
    "        ans = num1 - num2\n",
    "        print(\"\\n\",num1, '-' ,num2,'=',ans)\n",
    "    elif sign == '*':\n",
    "        ans = num1 * num2\n",
    "        print(\"\\n\",num1, 'x' ,num2,'=',ans)\n",
    "    elif sign == '/':\n",
    "        ans = num1 / num2\n",
    "        print(\"\\n\",num1, '/' ,num2,'=',ans)\n",
    "    else:\n",
    "        print(\"\\nYou enter Wrong sign \")\n",
    "        "
   ]
  },
  {
   "cell_type": "code",
   "execution_count": 106,
   "metadata": {},
   "outputs": [
    {
     "name": "stdout",
     "output_type": "stream",
     "text": [
      "Enter any number1: 345\n",
      "Enter any number2: 67\n",
      "Enter any Sign: *\n",
      "\n",
      " 345 x 67 = 23115\n"
     ]
    }
   ],
   "source": [
    "num1 = int(input(\"Enter any number1: \"))  \n",
    "num2 = int(input(\"Enter any number2: \"))\n",
    "sign = input(\"Enter any Sign: \")\n",
    "\n",
    "calculator(sign,num1,num2)\n"
   ]
  },
  {
   "cell_type": "code",
   "execution_count": null,
   "metadata": {},
   "outputs": [],
   "source": []
  },
  {
   "cell_type": "code",
   "execution_count": null,
   "metadata": {},
   "outputs": [],
   "source": []
  },
  {
   "cell_type": "code",
   "execution_count": null,
   "metadata": {},
   "outputs": [],
   "source": []
  },
  {
   "cell_type": "code",
   "execution_count": null,
   "metadata": {},
   "outputs": [],
   "source": []
  }
 ],
 "metadata": {
  "kernelspec": {
   "display_name": "Python 3",
   "language": "python",
   "name": "python3"
  },
  "language_info": {
   "codemirror_mode": {
    "name": "ipython",
    "version": 3
   },
   "file_extension": ".py",
   "mimetype": "text/x-python",
   "name": "python",
   "nbconvert_exporter": "python",
   "pygments_lexer": "ipython3",
   "version": "3.7.3"
  }
 },
 "nbformat": 4,
 "nbformat_minor": 2
}
