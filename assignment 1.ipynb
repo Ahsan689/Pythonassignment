{
 "cells": [
  {
   "cell_type": "markdown",
   "metadata": {},
   "source": [
    "## 1 :  Declare and initialize a variable name total_marks with a value 500\n"
   ]
  },
  {
   "cell_type": "code",
   "execution_count": 14,
   "metadata": {},
   "outputs": [
    {
     "name": "stdout",
     "output_type": "stream",
     "text": [
      "500\n"
     ]
    }
   ],
   "source": [
    "total_marks = 500\n",
    "print(total_marks)"
   ]
  },
  {
   "cell_type": "markdown",
   "metadata": {},
   "source": [
    "## 2 : Declare and initialize 5 variables name maths , english , urdu , physics and chemisrty with different integer values\n"
   ]
  },
  {
   "cell_type": "code",
   "execution_count": 15,
   "metadata": {},
   "outputs": [
    {
     "name": "stdout",
     "output_type": "stream",
     "text": [
      "67 78 80 98 71\n"
     ]
    }
   ],
   "source": [
    "maths = 67\n",
    "english = 78\n",
    "urdu = 80\n",
    "physics = 98\n",
    "chemistry = 71\n",
    "\n",
    "print(maths,english,urdu,physics,chemistry)"
   ]
  },
  {
   "cell_type": "markdown",
   "metadata": {},
   "source": [
    "## 3 : Calculate the obtained marks And assign the value In variable name obtained_marks\n"
   ]
  },
  {
   "cell_type": "code",
   "execution_count": 16,
   "metadata": {},
   "outputs": [
    {
     "name": "stdout",
     "output_type": "stream",
     "text": [
      "394\n"
     ]
    }
   ],
   "source": [
    "obtained_marks = maths+english+urdu+physics+chemistry\n",
    "print(obtained_marks)\n",
    "\n"
   ]
  },
  {
   "cell_type": "markdown",
   "metadata": {},
   "source": [
    "## 4 : Calculate percentage and assign the value in variable name percentage"
   ]
  },
  {
   "cell_type": "code",
   "execution_count": 23,
   "metadata": {},
   "outputs": [
    {
     "name": "stdout",
     "output_type": "stream",
     "text": [
      "78.8\n"
     ]
    }
   ],
   "source": [
    "per = (obtained_marks/500) * 100\n",
    "print(per )"
   ]
  },
  {
   "cell_type": "markdown",
   "metadata": {},
   "source": [
    "## 5 : Declare and initialize an empty variable name grade"
   ]
  },
  {
   "cell_type": "code",
   "execution_count": 24,
   "metadata": {},
   "outputs": [
    {
     "name": "stdout",
     "output_type": "stream",
     "text": [
      "B\n"
     ]
    }
   ],
   "source": [
    "grade:''\n",
    "if (per>90 and per<=100):\n",
    "        grade='A+'\n",
    "elif (per<90 and per>=80):\n",
    "        grade='A'\n",
    "elif (per<80 and per>=70):\n",
    "        grade='B'\n",
    "elif (per<70 and per>=60):\n",
    "        grade='C'\n",
    "elif (per<60 and per>=50):\n",
    "        grade='D'\n",
    "else:\n",
    "    grade=fail\n",
    "print(grade)"
   ]
  },
  {
   "cell_type": "markdown",
   "metadata": {},
   "source": [
    "## 6: print your biodata\n"
   ]
  },
  {
   "cell_type": "code",
   "execution_count": 25,
   "metadata": {},
   "outputs": [
    {
     "name": "stdout",
     "output_type": "stream",
     "text": [
      "Muhammad Ahsan Aleem Abdul Aleem 21 Karachi University\n"
     ]
    }
   ],
   "source": [
    "name = \"Muhammad Ahsan Aleem\"\n",
    "F_name = \"Abdul Aleem\"\n",
    "age = 21\n",
    "University = \"Karachi University\"\n",
    "print(name,F_name,age,University)\n"
   ]
  }
 ],
 "metadata": {
  "kernelspec": {
   "display_name": "Python 3",
   "language": "python",
   "name": "python3"
  },
  "language_info": {
   "codemirror_mode": {
    "name": "ipython",
    "version": 3
   },
   "file_extension": ".py",
   "mimetype": "text/x-python",
   "name": "python",
   "nbconvert_exporter": "python",
   "pygments_lexer": "ipython3",
   "version": "3.7.3"
  }
 },
 "nbformat": 4,
 "nbformat_minor": 2
}
