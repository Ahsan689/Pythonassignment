{
 "cells": [
  {
   "cell_type": "markdown",
   "metadata": {},
   "source": [
    "# The ABC company has hired you as an intern on the coding team that creates e-commerce applications.¶\n",
    "\n",
    "You must write a script that asks the user for a value. The value must be used as a whole number in a calculation, even if the user enters a decimal value.\n",
    "\n",
    "You need to write the code to meet the requirements."
   ]
  },
  {
   "cell_type": "code",
   "execution_count": 25,
   "metadata": {},
   "outputs": [
    {
     "name": "stdout",
     "output_type": "stream",
     "text": [
      "Enter the amount you want to Deposit: Rs.67890\n",
      "\n",
      "Your Deposited amount is  Rs. 67890\n"
     ]
    }
   ],
   "source": [
    "deposit = int(input(\"Enter the amount you want to Deposit: Rs.\"))\n",
    "print (\"\\nYour Deposited amount is \",\"Rs.\", deposit)"
   ]
  },
  {
   "cell_type": "markdown",
   "metadata": {},
   "source": [
    "# You are creating a Python program that shows a congratulation message to employees on their service anniversary.¶\n",
    "\n",
    "You need to calculate the number of years of service and print a congratulatory message. You should take the inputs from the users where necessary"
   ]
  },
  {
   "cell_type": "code",
   "execution_count": 31,
   "metadata": {},
   "outputs": [
    {
     "name": "stdout",
     "output_type": "stream",
     "text": [
      "Enter your joining Year : 2004\n",
      "\n",
      "Congratulations you have Served  15 Years with us in this company. And you are a hard working Employee.\n"
     ]
    }
   ],
   "source": [
    "year = int(input(\"Enter your joining Year : \"))\n",
    "curr_year = 2019\n",
    "result = curr_year - year \n",
    "print (\"\\nCongratulations you have Served \",result,\"Years with us in this company. And you are a hard working Employee.\")"
   ]
  },
  {
   "cell_type": "markdown",
   "metadata": {},
   "source": [
    "# Write a Python program to convert temperatures from fahrenheit to celsius,\n",
    "\n",
    "## step 1: take \"fahrenheit Temperature\" from user in integer data type\n",
    "\n",
    "## step 2: apply formula that is ( C = (5/9) * (fahrenheit_temperature - 32) )\n",
    "\n",
    "## step 3: print step 2.\n"
   ]
  },
  {
   "cell_type": "code",
   "execution_count": 12,
   "metadata": {
    "scrolled": true
   },
   "outputs": [
    {
     "name": "stdout",
     "output_type": "stream",
     "text": [
      "Enter temperature in Fahrenheit : 90\n",
      "\n",
      "Temperature in Celcis :  32.22222222222222\n"
     ]
    }
   ],
   "source": [
    "fah_temp = int(input(\"Enter temperature in Fahrenheit : \"))\n",
    "celcius = (5/9)*(fah_temp-32)\n",
    "print(\"\\nTemperature in Celcis : \",celcius)"
   ]
  },
  {
   "cell_type": "markdown",
   "metadata": {},
   "source": [
    "## assign a vlue to grade by checking the following conditions::\n",
    "\n",
    "## if % is greater then and equal to 90 and less then 100 grade is A+\n",
    "\n",
    "## if % is greater then and equal to 80 and less then 90 grade is A\n",
    "\n",
    "## if % is greater then and equal to 70 and less then 80 grade is B\n",
    "\n",
    "## if % is greater then and equal to 60 and less then 70 grade is C\n",
    "\n",
    "## if % is less than 60 grade is FAIL\n"
   ]
  },
  {
   "cell_type": "code",
   "execution_count": 11,
   "metadata": {
    "scrolled": true
   },
   "outputs": [
    {
     "name": "stdout",
     "output_type": "stream",
     "text": [
      " *******  Program to assign the grades  ******** \n",
      "\n",
      "\n",
      "Enter marks of english : 85\n",
      "Enter marks maths : 96\n",
      "Enter marks islamiat: 94\n",
      "Enter marks chemistry: 75\n"
     ]
    }
   ],
   "source": [
    "print (\" *******  Program to assign the grades  ******** \\n\\n\")\n",
    "eng = int(input(\"Enter marks of english : \"))\n",
    "maths = int(input(\"Enter marks maths : \"))\n",
    "islamiat = int(input(\"Enter marks islamiat: \"))\n",
    "chem = int(input(\"Enter marks chemistry: \"))\n",
    "\n",
    "total = 400\n",
    "\n",
    "sum = eng + maths + islamiat + chem\n",
    "per = (sum/total) *100\n",
    "\n",
    "per = 88\n",
    "if per >= 90 and per < 100 :\n",
    "    grade = \"A+\"\n",
    "      \n",
    "elif per >= 80 and per < 90 :\n",
    "    grade = \"A\"\n",
    "    \n",
    "elif per >= 70 and per < 80 :\n",
    "    grade = \"B\"\n",
    "    \n",
    "elif per >= 60 and per < 70 :\n",
    "    grade = \"C\"\n",
    "    \n",
    "else:\n",
    "    grade = \"FAIL\"\n",
    "\n",
    "    "
   ]
  },
  {
   "cell_type": "markdown",
   "metadata": {},
   "source": [
    "## Print grade percentage and obtained marks\n"
   ]
  },
  {
   "cell_type": "code",
   "execution_count": 9,
   "metadata": {},
   "outputs": [
    {
     "name": "stdout",
     "output_type": "stream",
     "text": [
      "Grade :  A , Percentage : 88 % , Obtained marks : 364\n"
     ]
    }
   ],
   "source": [
    "print(\"Grade : \",grade,\", Percentage :\",per,\"%\",\", Obtained marks :\",sum)"
   ]
  }
 ],
 "metadata": {
  "kernelspec": {
   "display_name": "Python 3",
   "language": "python",
   "name": "python3"
  },
  "language_info": {
   "codemirror_mode": {
    "name": "ipython",
    "version": 3
   },
   "file_extension": ".py",
   "mimetype": "text/x-python",
   "name": "python",
   "nbconvert_exporter": "python",
   "pygments_lexer": "ipython3",
   "version": "3.7.3"
  }
 },
 "nbformat": 4,
 "nbformat_minor": 2
}
